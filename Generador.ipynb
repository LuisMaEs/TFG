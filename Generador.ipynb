{
 "cells": [
  {
   "cell_type": "code",
   "execution_count": 43,
   "metadata": {},
   "outputs": [],
   "source": [
    "import qecc as q\n",
    "import numpy\n",
    "iterator=q.clifford_group(2,True)\n",
    "f= open('Prueba1.txt','w')\n",
    "\n",
    "for i in range(0,11520):\n",
    "    Matrix=next(iterator).as_unitary()\n",
    "    f.write('%f\\n' % Matrix[0][0].real)\n",
    "    f.write('%f\\t%f\\n' %(Matrix[1][0].real,Matrix[1][1].real))\n",
    "    f.write('%f\\t%f\\n' %(Matrix[0][0].imag,Matrix[0][1].imag))\n",
    "    f.write('%f\\t%f\\n' %(Matrix[1][0].imag,Matrix[1][1].imag))\n",
    "    \n",
    "f.close()"
   ]
  },
  {
   "cell_type": "code",
   "execution_count": 6,
   "metadata": {},
   "outputs": [],
   "source": [
    "import qecc as q\n",
    "import numpy as np\n",
    "import math\n",
    "import cmath\n",
    "\n",
    "raiz=1/math.sqrt(2)\n",
    "\n",
    "#fases=[1,complex(raiz,raiz),complex(0,1),complex(-raiz,raiz),complex(-1,0),complex(-raiz,-raiz),complex(0,-1),complex(raiz,-raiz)]\n",
    "fases=1\n",
    "def es_matriz_diagonal_np(m):\n",
    "    valor = m==np.diag(np.diag(m))\n",
    "    return ((valor).sum()==m.shape[0]*m.shape[1])\n",
    "\n",
    "n=1\n",
    "iterator=q.clifford_group(n,True)\n",
    "f= open('Grupo1D_sinfases.txt','w')\n",
    "nmatriz=2**n\n",
    "for x in range(0,24):\n",
    "    Matrix=next(iterator).as_unitary()\n",
    "    for i in range(0,nmatriz):\n",
    "        for j in range(0,nmatriz):\n",
    "            if (j==(nmatriz-1)):\n",
    "                f.write('%lf\\n' %(Matrix[i][j].real))\n",
    "            else:\n",
    "                f.write('%lf\\t' %(Matrix[i][j].real))\n",
    "               \n",
    "    for i in range(0,nmatriz):\n",
    "        for j in range(0,nmatriz):\n",
    "            if (j==(nmatriz-1)):\n",
    "                f.write('%lf\\n' %(Matrix[i][j].imag))\n",
    "            else:\n",
    "                f.write('%lf\\t' %(Matrix[i][j].imag))\n",
    "            \n",
    "        \n",
    "f.close()\n",
    "#Esto imprime Matriz real y matriz imaginaria una tras otra."
   ]
  },
  {
   "cell_type": "markdown",
   "metadata": {},
   "source": []
  },
  {
   "cell_type": "code",
   "execution_count": 4,
   "metadata": {},
   "outputs": [],
   "source": [
    "import qecc as q\n",
    "import numpy as np\n",
    "import math\n",
    "import cmath\n",
    "\n",
    "raiz=1/math.sqrt(2)\n",
    "\n",
    "#fases=[1,complex(raiz,raiz),complex(0,1),complex(-raiz,raiz),complex(-1,0),complex(-raiz,-raiz),complex(0,-1),complex(raiz,-raiz)]\n",
    "fases=[1]\n",
    "def es_matriz_diagonal_np(m):\n",
    "    valor = m==np.diag(np.diag(m))\n",
    "    return ((valor).sum()==m.shape[0]*m.shape[1])\n",
    "\n",
    "n=2\n",
    "iterator=q.clifford_group(n,True)\n",
    "f= open('Grupo2D_sinfases.txt','w')\n",
    "nmatriz=2**n\n",
    "for x in range(0,11520):\n",
    "    Matrix=next(iterator).as_unitary()\n",
    "        \n",
    "    for fase in fases:\n",
    "        Matrix=Matrix*fase\n",
    "        for i in range(0,nmatriz):\n",
    "            for j in range(0,nmatriz):\n",
    "                if (j==(nmatriz-1)):\n",
    "                    f.write('%lf\\n' %(Matrix[i][j].real))\n",
    "                else:\n",
    "                    f.write('%lf\\t' %(Matrix[i][j].real))\n",
    "                \n",
    "        for i in range(0,nmatriz):\n",
    "            for j in range(0,nmatriz):\n",
    "                if (j==(nmatriz-1)):\n",
    "                    f.write('%lf\\n' %(Matrix[i][j].imag))\n",
    "                else:\n",
    "                    f.write('%lf\\t' %(Matrix[i][j].imag))\n",
    "            \n",
    "        \n",
    "f.close()\n",
    "#Esto imprime Matriz real y matriz imaginaria una tras otra."
   ]
  },
  {
   "cell_type": "code",
   "execution_count": 3,
   "metadata": {},
   "outputs": [
    {
     "name": "stderr",
     "output_type": "stream",
     "text": [
      "<ipython-input-3-79b4bdbee685>:28: ComplexWarning: Casting complex values to real discards the imaginary part\n",
      "  f.write('%lf\\t' %(Matrix[i][j]))\n",
      "<ipython-input-3-79b4bdbee685>:26: ComplexWarning: Casting complex values to real discards the imaginary part\n",
      "  f.write('%lf\\n' %(Matrix[i][j]))\n"
     ]
    }
   ],
   "source": [
    "import qecc as q\n",
    "import numpy as np\n",
    "import math\n",
    "import cmath\n",
    "\n",
    "raiz=1/math.sqrt(2)\n",
    "\n",
    "#fases=[1,complex(raiz,raiz),complex(0,1),complex(-raiz,raiz),complex(-1,0),complex(-raiz,-raiz),complex(0,-1),complex(raiz,-raiz)]\n",
    "fases=[1]\n",
    "def es_matriz_diagonal_np(m):\n",
    "    valor = m==np.diag(np.diag(m))\n",
    "    return ((valor).sum()==m.shape[0]*m.shape[1])\n",
    "\n",
    "n=2\n",
    "iterator=q.clifford_group(n,True)\n",
    "f= open('Grupo2D_sinfases_intentofacil.txt','w')\n",
    "nmatriz=2**n\n",
    "for x in range(0,11520):\n",
    "    Matrix=next(iterator).as_unitary()\n",
    "        \n",
    "    for fase in fases:\n",
    "        Matrix=Matrix*fase\n",
    "        for i in range(0,nmatriz):\n",
    "            for j in range(0,nmatriz):\n",
    "                if (j==(nmatriz-1)):\n",
    "                    f.write('%i\\n' %(Matrix[i][j]))\n",
    "                else:\n",
    "                    f.write('%lf\\t' %(Matrix[i][j]))\n",
    "            \n",
    "            \n",
    "        \n",
    "f.close()\n",
    "#Esto imprime Matriz real y matriz imaginaria una tras otra.\n"
   ]
  },
  {
   "cell_type": "code",
   "execution_count": 61,
   "metadata": {},
   "outputs": [
    {
     "name": "stdout",
     "output_type": "stream",
     "text": [
      "1.40625\n"
     ]
    }
   ],
   "source": [
    "ans=46080*4*8\n",
    "ans=ans/(1024**2)\n",
    "print(ans)"
   ]
  },
  {
   "cell_type": "code",
   "execution_count": 64,
   "metadata": {},
   "outputs": [
    {
     "data": {
      "text/plain": [
       "<function TextIOWrapper.close()>"
      ]
     },
     "execution_count": 64,
     "metadata": {},
     "output_type": "execute_result"
    }
   ],
   "source": [
    "f.close"
   ]
  },
  {
   "cell_type": "code",
   "execution_count": 13,
   "metadata": {},
   "outputs": [
    {
     "name": "stdout",
     "output_type": "stream",
     "text": [
      "True\n"
     ]
    }
   ],
   "source": [
    "import numpy as np\n",
    "\n",
    "def es_matriz_diagonal_np(m):\n",
    "    valor = m==np.diag(np.diag(m))\n",
    "    return ((valor).sum()==m.shape[0]*m.shape[1])\n",
    "\n",
    "matrix = np.array( [[1, 0, 0,0],  \n",
    "              [0, 1, 0,0],  \n",
    "              [0, 0, 0,0],[0, 0, 0,1]])\n",
    "print(es_matriz_diagonal_np(matrix))\n",
    "\n"
   ]
  },
  {
   "cell_type": "code",
   "execution_count": null,
   "metadata": {},
   "outputs": [],
   "source": []
  }
 ],
 "metadata": {
  "kernelspec": {
   "display_name": "Python 3",
   "language": "python",
   "name": "python3"
  },
  "language_info": {
   "codemirror_mode": {
    "name": "ipython",
    "version": 3
   },
   "file_extension": ".py",
   "mimetype": "text/x-python",
   "name": "python",
   "nbconvert_exporter": "python",
   "pygments_lexer": "ipython3",
   "version": "3.8.5"
  }
 },
 "nbformat": 4,
 "nbformat_minor": 4
}
